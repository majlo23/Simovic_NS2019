{
  "cells": [
    {
      "metadata": {
        "trusted": true
      },
      "cell_type": "code",
      "source": "import pandas as pd",
      "execution_count": 1,
      "outputs": []
    },
    {
      "metadata": {
        "trusted": true
      },
      "cell_type": "code",
      "source": "import numpy as np",
      "execution_count": 2,
      "outputs": []
    },
    {
      "metadata": {
        "trusted": true
      },
      "cell_type": "code",
      "source": "class Perceptron():   \n    #konstruktor\n    def __init__(self, rychlost_ucenia=0.01, pocet_iteracii=10):    #nastavenie rychlosti ucenia a poctu iteracii, \n        self.eta = rychlost_ucenia                                  #tj. kolko krat proces ucenia zbehne \n        self.n_iter = pocet_iteracii      \n    \n    def fit(self, X,y):  \n        self.vahy = np.zeros(1+ X.shape[1]) #invializacia vah\n        self.errors_=[] #inicializacia matice errors_, ktora ukada chybovost NS\n        \n        for i in range(self.n_iter): #cyklus ucenia NS, vykona sa 10 krat\n            errors = 0\n            \n            for matica,vystup in zip(X,y):  #cyklus ucenia, do X sa nacitavaju vstupne data do y vystupne, cysklus zbehne pre \n                                            #pre vsetky riadky datasetu * 10(pocet iteracii)=1000\n                update = self.eta * (vystup-self.predikcia(matica))\n                self.vahy[1:] += update*matica\n                self.vahy[0]+= update\n                errors += int(update !=0.0)\n            self.errors_.append(errors)        \n        return self  \n\n    def net_input(self, X):\n        return np.dot(X, self.vahy[1:])+ self.vahy[0]\n\n    def predikcia(self, X):   #ak je vysledok z funkcie net_input >0, predikcia je 1, inak -1\n        return np.where(self.net_input(X) >= 0.0, 1, -1)",
      "execution_count": 1,
      "outputs": []
    },
    {
      "metadata": {
        "trusted": true
      },
      "cell_type": "code",
      "source": "df = pd.read_csv('https://archive.ics.uci.edu/ml/machine-learning-databases/iris/iris.data', header=None) #nacitanie datasetu\ndf.head()\n\nX = df.iloc[:100,[0,2]].values #nacitanie prvych 100 hodnot z 1. a 3. stplca datasetu do matice \ny = df.iloc[:100,4].values #nacitanie hodnot 5. stpca datesetu do matice\ny =np.where(y=='Iris-setosa',-1,1) #Ak sa 5. stlpec zhoduje s \"Iris-setosa\" tak -1, inak 1\nppn = Perceptron()  \nppn.fit(X,y) #spustenie funkcie fit s parametrami X a y, ktore sme vyssie nacitali z datasetu",
      "execution_count": 4,
      "outputs": [
        {
          "output_type": "execute_result",
          "execution_count": 4,
          "data": {
            "text/plain": "<__main__.Perceptron at 0x7fa9adba1d68>"
          },
          "metadata": {}
        }
      ]
    },
    {
      "metadata": {
        "trusted": true
      },
      "cell_type": "code",
      "source": "print(X[:5]) #vypis matice X, prvych 5 hodnot\nprint(y) #vypis matice y, vsetky hodnoty\n",
      "execution_count": 5,
      "outputs": [
        {
          "output_type": "stream",
          "text": "[[5.1 1.4]\n [4.9 1.4]\n [4.7 1.3]\n [4.6 1.5]\n [5.  1.4]]\n[-1 -1 -1 -1 -1 -1 -1 -1 -1 -1 -1 -1 -1 -1 -1 -1 -1 -1 -1 -1 -1 -1 -1 -1\n -1 -1 -1 -1 -1 -1 -1 -1 -1 -1 -1 -1 -1 -1 -1 -1 -1 -1 -1 -1 -1 -1 -1 -1\n -1 -1  1  1  1  1  1  1  1  1  1  1  1  1  1  1  1  1  1  1  1  1  1  1\n  1  1  1  1  1  1  1  1  1  1  1  1  1  1  1  1  1  1  1  1  1  1  1  1\n  1  1  1  1]\n",
          "name": "stdout"
        }
      ]
    },
    {
      "metadata": {
        "trusted": true
      },
      "cell_type": "code",
      "source": "import matplotlib.pyplot as plt",
      "execution_count": 6,
      "outputs": []
    },
    {
      "metadata": {
        "trusted": true
      },
      "cell_type": "code",
      "source": "plt.plot(ppn.errors_)\nplt.xlabel('epoch')\nplt.ylabel('error')\nplt.show",
      "execution_count": 7,
      "outputs": [
        {
          "output_type": "execute_result",
          "execution_count": 7,
          "data": {
            "text/plain": "<function matplotlib.pyplot.show(*args, **kw)>"
          },
          "metadata": {}
        },
        {
          "output_type": "display_data",
          "data": {
            "image/png": "[encoded data removed]",
            "text/plain": "<Figure size 432x288 with 1 Axes>"
          },
          "metadata": {
            "needs_background": "light"
          }
        }
      ]
    },
    {
      "metadata": {
        "trusted": true
      },
      "cell_type": "code",
      "source": "",
      "execution_count": null,
      "outputs": []
    }
  ],
  "metadata": {
    "kernelspec": {
      "name": "python36",
      "display_name": "Python 3.6",
      "language": "python"
    },
    "language_info": {
      "mimetype": "text/x-python",
      "nbconvert_exporter": "python",
      "name": "python",
      "pygments_lexer": "ipython3",
      "version": "3.6.6",
      "file_extension": ".py",
      "codemirror_mode": {
        "version": 3,
        "name": "ipython"
      }
    }
  },
  "nbformat": 4,
  "nbformat_minor": 2
}